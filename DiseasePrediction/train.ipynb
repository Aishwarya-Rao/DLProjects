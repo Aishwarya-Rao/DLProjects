{
 "cells": [
  {
   "cell_type": "code",
   "execution_count": 1,
   "metadata": {},
   "outputs": [],
   "source": [
    "import numpy as np\n",
    "import os\n",
    "from keras.preprocessing.image import load_img, img_to_array\n",
    "from keras.models import load_model\n"
   ]
  },
  {
   "cell_type": "code",
   "execution_count": 2,
   "metadata": {},
   "outputs": [],
   "source": [
    "labels=[]\n",
    "image_data=[]\n",
    "normal=os.listdir('XRayImgs/chest_xray/train/NORMAL')\n",
    "pneumonia=os.listdir('XRayImgs/chest_xray/train/PNEUMONIA')\n",
    "for norm in normal:\n",
    " filename=\"XRayImgs/chest_xray/train/NORMAL/\"+norm\n",
    " img_loaded=load_img(filename, color_mode='grayscale',target_size=(500,500))\n",
    " img_array=img_to_array(img_loaded)\n",
    " image_data.append(img_array)\n",
    " labels.append(0)\n",
    "for pneu in pneumonia:\n",
    " filename=\"XRayImgs/chest_xray/train/PNEUMONIA/\"+pneu\n",
    " img_loaded=load_img(filename, color_mode='grayscale',target_size=(500,500))\n",
    " img_array=img_to_array(img_loaded)\n",
    " image_data.append(img_array)\n",
    " labels.append(1)\n",
    "\n"
   ]
  },
  {
   "cell_type": "code",
   "execution_count": 3,
   "metadata": {},
   "outputs": [],
   "source": [
    "from sklearn.model_selection import train_test_split\n",
    "x_train,x_valid,y_train,y_valid=train_test_split(image_data,labels,train_size=0.7)\n"
   ]
  },
  {
   "cell_type": "code",
   "execution_count": 4,
   "metadata": {},
   "outputs": [],
   "source": [
    "x_train=np.asarray(x_train)\n",
    "y_train=np.asarray(y_train)\n",
    "x_valid=np.asarray(x_valid)\n",
    "y_valid=np.asarray(y_valid)"
   ]
  },
  {
   "cell_type": "code",
   "execution_count": 5,
   "metadata": {},
   "outputs": [
    {
     "data": {
      "text/plain": [
       "(3662, 500, 500, 1)"
      ]
     },
     "execution_count": 5,
     "metadata": {},
     "output_type": "execute_result"
    }
   ],
   "source": [
    "x_train.shape"
   ]
  },
  {
   "cell_type": "code",
   "execution_count": 6,
   "metadata": {},
   "outputs": [],
   "source": [
    "x_train=x_train/255\n",
    "x_valid=x_valid/255"
   ]
  },
  {
   "cell_type": "code",
   "execution_count": 7,
   "metadata": {},
   "outputs": [],
   "source": [
    "from keras.models import Sequential\n",
    "from keras.layers import Flatten, Dense"
   ]
  },
  {
   "cell_type": "code",
   "execution_count": 8,
   "metadata": {},
   "outputs": [
    {
     "name": "stderr",
     "output_type": "stream",
     "text": [
      "c:\\Users\\arao86\\AppData\\Local\\Programs\\Python\\Python311\\Lib\\site-packages\\keras\\src\\layers\\reshaping\\flatten.py:37: UserWarning: Do not pass an `input_shape`/`input_dim` argument to a layer. When using Sequential models, prefer using an `Input(shape)` object as the first layer in the model instead.\n",
      "  super().__init__(**kwargs)\n"
     ]
    }
   ],
   "source": [
    "model=Sequential()\n",
    "\n",
    "inp_layer=Flatten(input_shape=(500,500))\n",
    "hidden_layer1=Dense(1024,activation='relu')\n",
    "# hidden_layer2=model.Dense(512,activation='relu')\n",
    "out_layer=Dense(2,activation='softmax')\n",
    "\n",
    "model.add(inp_layer)\n",
    "model.add(hidden_layer1)\n",
    "# model.add(hidden_layer2)\n",
    "model.add(out_layer)"
   ]
  },
  {
   "cell_type": "code",
   "execution_count": 9,
   "metadata": {},
   "outputs": [],
   "source": [
    "model.compile(optimizer=\"adam\",loss=\"sparse_categorical_crossentropy\",metrics=['accuracy'])"
   ]
  },
  {
   "cell_type": "code",
   "execution_count": 11,
   "metadata": {},
   "outputs": [
    {
     "name": "stdout",
     "output_type": "stream",
     "text": [
      "Epoch 1/3\n",
      "\u001b[1m115/115\u001b[0m \u001b[32m━━━━━━━━━━━━━━━━━━━━\u001b[0m\u001b[37m\u001b[0m \u001b[1m302s\u001b[0m 2s/step - accuracy: 0.8819 - loss: 2.3660 - val_accuracy: 0.9344 - val_loss: 1.5291\n",
      "Epoch 2/3\n",
      "\u001b[1m115/115\u001b[0m \u001b[32m━━━━━━━━━━━━━━━━━━━━\u001b[0m\u001b[37m\u001b[0m \u001b[1m238s\u001b[0m 2s/step - accuracy: 0.9221 - loss: 1.8451 - val_accuracy: 0.7446 - val_loss: 6.8704\n",
      "Epoch 3/3\n",
      "\u001b[1m115/115\u001b[0m \u001b[32m━━━━━━━━━━━━━━━━━━━━\u001b[0m\u001b[37m\u001b[0m \u001b[1m228s\u001b[0m 2s/step - accuracy: 0.9046 - loss: 2.3707 - val_accuracy: 0.8790 - val_loss: 2.0258\n"
     ]
    },
    {
     "data": {
      "text/plain": [
       "<keras.src.callbacks.history.History at 0x202e8092050>"
      ]
     },
     "execution_count": 11,
     "metadata": {},
     "output_type": "execute_result"
    }
   ],
   "source": [
    "model.fit(x_train,y_train, epochs=3, validation_data=(x_valid,y_valid))"
   ]
  },
  {
   "cell_type": "code",
   "execution_count": 12,
   "metadata": {},
   "outputs": [],
   "source": [
    "model.save('disease1.keras')"
   ]
  },
  {
   "cell_type": "code",
   "execution_count": 22,
   "metadata": {},
   "outputs": [],
   "source": [
    "tlabels=[]\n",
    "timage_data=[]\n",
    "normal=os.listdir('XRayImgs/chest_xray/test/NORMAL')\n",
    "pneumonia=os.listdir('XRayImgs/chest_xray/test/PNEUMONIA')\n",
    "for norm in normal:\n",
    " filename=\"XRayImgs/chest_xray/test/NORMAL/\"+norm\n",
    " img_loaded=load_img(filename, color_mode='grayscale',target_size=(500,500))\n",
    " img_array=img_to_array(img_loaded)\n",
    " timage_data.append(img_array)\n",
    " tlabels.append(0)\n",
    "for pneu in pneumonia:\n",
    " filename=\"XRayImgs/chest_xray/test/PNEUMONIA/\"+pneu\n",
    " img_loaded=load_img(filename, color_mode='grayscale',target_size=(500,500))\n",
    " img_array=img_to_array(img_loaded)\n",
    " timage_data.append(img_array)\n",
    " tlabels.append(1)\n",
    "\n"
   ]
  },
  {
   "cell_type": "code",
   "execution_count": 23,
   "metadata": {},
   "outputs": [],
   "source": [
    "timage_data=np.asarray(timage_data)\n",
    "tlabels=np.asarray(tlabels)\n",
    "\n",
    "timage_data=timage_data/255"
   ]
  },
  {
   "cell_type": "code",
   "execution_count": 24,
   "metadata": {},
   "outputs": [
    {
     "data": {
      "text/plain": [
       "(1570,)"
      ]
     },
     "execution_count": 24,
     "metadata": {},
     "output_type": "execute_result"
    }
   ],
   "source": [
    "y_valid.shape"
   ]
  },
  {
   "cell_type": "code",
   "execution_count": 25,
   "metadata": {},
   "outputs": [
    {
     "data": {
      "text/plain": [
       "(624,)"
      ]
     },
     "execution_count": 25,
     "metadata": {},
     "output_type": "execute_result"
    }
   ],
   "source": [
    "tlabels.shape"
   ]
  },
  {
   "cell_type": "code",
   "execution_count": 26,
   "metadata": {},
   "outputs": [
    {
     "name": "stdout",
     "output_type": "stream",
     "text": [
      "\u001b[1m20/20\u001b[0m \u001b[32m━━━━━━━━━━━━━━━━━━━━\u001b[0m\u001b[37m\u001b[0m \u001b[1m11s\u001b[0m 164ms/step - accuracy: 0.8617 - loss: 3.0743\n"
     ]
    }
   ],
   "source": [
    "lossacc=model.evaluate(timage_data,tlabels)"
   ]
  },
  {
   "cell_type": "code",
   "execution_count": null,
   "metadata": {},
   "outputs": [],
   "source": []
  }
 ],
 "metadata": {
  "kernelspec": {
   "display_name": "Python 3",
   "language": "python",
   "name": "python3"
  },
  "language_info": {
   "codemirror_mode": {
    "name": "ipython",
    "version": 3
   },
   "file_extension": ".py",
   "mimetype": "text/x-python",
   "name": "python",
   "nbconvert_exporter": "python",
   "pygments_lexer": "ipython3",
   "version": "3.11.0"
  }
 },
 "nbformat": 4,
 "nbformat_minor": 2
}
